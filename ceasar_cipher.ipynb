{
  "nbformat": 4,
  "nbformat_minor": 0,
  "metadata": {
    "colab": {
      "provenance": [],
      "authorship_tag": "ABX9TyOfHpjH9E9cTkDZnwxHsfJb",
      "include_colab_link": true
    },
    "kernelspec": {
      "name": "python3",
      "display_name": "Python 3"
    },
    "language_info": {
      "name": "python"
    }
  },
  "cells": [
    {
      "cell_type": "markdown",
      "metadata": {
        "id": "view-in-github",
        "colab_type": "text"
      },
      "source": [
        "<a href=\"https://colab.research.google.com/github/kulsum381/CEASAR-SIPHER/blob/main/ceasar_cipher.ipynb\" target=\"_parent\"><img src=\"https://colab.research.google.com/assets/colab-badge.svg\" alt=\"Open In Colab\"/></a>"
      ]
    },
    {
      "cell_type": "markdown",
      "source": [
        "CEASAR CIPHER"
      ],
      "metadata": {
        "id": "wQtLUE2CX-9c"
      }
    },
    {
      "cell_type": "code",
      "source": [
        "def encrypt(text,shift):\n",
        "    result = \" \"\n",
        "    for char in text:\n",
        "        if char.isalpha():\n",
        "            base = ord('A') if char.isupper() else ord('a')\n",
        "            result += chr((ord(char) - base + shift) % 26 + base)\n",
        "        else:\n",
        "            result += char\n",
        "    return result"
      ],
      "metadata": {
        "id": "jUGD4w6GYPmI"
      },
      "execution_count": null,
      "outputs": []
    },
    {
      "cell_type": "code",
      "source": [
        "def decrypt(text, shift):\n",
        "    return encrypt(text, -shift)"
      ],
      "metadata": {
        "id": "s3bbjD75arVZ"
      },
      "execution_count": null,
      "outputs": []
    },
    {
      "cell_type": "code",
      "source": [
        "message = input(\"Enter your message: \")\n",
        "shift = int(input(\"Enter shift value (e.g. 3): \"))"
      ],
      "metadata": {
        "colab": {
          "base_uri": "https://localhost:8080/"
        },
        "id": "FhBo2c7NawYf",
        "outputId": "5b331f79-52f5-46bf-eba5-aec00928f98b"
      },
      "execution_count": null,
      "outputs": [
        {
          "name": "stdout",
          "output_type": "stream",
          "text": [
            "Enter your message: kulsum\n",
            "Enter shift value (e.g. 3): 2\n"
          ]
        }
      ]
    },
    {
      "cell_type": "code",
      "source": [
        "encrypted = encrypt(message, shift)\n",
        "print(\"Encrypted message:\", encrypted)"
      ],
      "metadata": {
        "colab": {
          "base_uri": "https://localhost:8080/"
        },
        "id": "BlrfjntFa08k",
        "outputId": "942f562d-f942-4819-c4cf-b97e7081a971"
      },
      "execution_count": null,
      "outputs": [
        {
          "output_type": "stream",
          "name": "stdout",
          "text": [
            "Encrypted message:  mwnuwo\n"
          ]
        }
      ]
    },
    {
      "cell_type": "code",
      "source": [
        "decrypted = decrypt(encrypted, shift)\n",
        "print(\"Decrypted message:\", decrypted)"
      ],
      "metadata": {
        "colab": {
          "base_uri": "https://localhost:8080/"
        },
        "id": "SeakQjwta18V",
        "outputId": "cbca087b-242d-43a2-f0c4-2642408bd2b8"
      },
      "execution_count": null,
      "outputs": [
        {
          "output_type": "stream",
          "name": "stdout",
          "text": [
            "Decrypted message:   kulsum\n"
          ]
        }
      ]
    }
  ]
}